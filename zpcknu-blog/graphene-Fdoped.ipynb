{
 "cells": [
  {
   "cell_type": "markdown",
   "metadata": {},
   "source": [
    "# 石墨烯单层 F吸附\n",
    "单层石墨烯，上下以F原子吸附，使得Carbon的sp2杂化成为sp3杂化。\n",
    "\n",
    "## 限制\n",
    "简单起见增加下列两个限制。\n",
    "1. 首先考虑F最大浓度覆盖的情况，也就是只要位点能够形sp3杂化，就放上F原子。\n",
    "2. 同时，增加相邻石墨烯C原子间不能够同一方向放F原子的限制。\n",
    "\n",
    "在以上两个限制的前提下，生成面积为原胞石墨烯n倍的各种可能情况的结构。这里的n使得总共需要用第一性原理计算的构型数量不大于500.\n",
    "\n",
    "## 参数\n",
    "石墨烯的C-C键长为1.41797A\n",
    "设定F原子初始到graphene平面的z方向距离为2A\n",
    "\n",
    "## 算法\n",
    "- Step1：给出要考察的石墨烯单层超胞supercell，也就是给定特定的n，形状选用无非对角元的拓展矩阵\n",
    "- Step2：获取supercell上C原子的X,Y坐标，分别在z方向上+或者-一定距离设定空位，标定可占据位点。位点分为up和down两组\n",
    "- Step3：在up组，用F元素替换空位占据点，得到所有up单侧F取代的构型。\n",
    "- Step3-1：占据后使用构型过滤，得到所有up侧F不相邻的构型。\n",
    "- Step4：对每一个up单侧的构型，获取down侧的可能取代位点，用空位标记。\n",
    "- Step4-1：在down组新的标记中，用F原子替换，得到所有可能构型。\n",
    "- Step4-2：占据后使用构型过滤，得到所有down侧F不相邻的构型。\n",
    "\n",
    "以上算法中，可能出现这样的问题，既石墨烯翻转后，上下侧没有区别，会出现相同的构型。\n",
    "为了避免这种情况的出现，在up侧替换的时候，替换的数量限制在<=1/2的位点数量，这样就能够保证构型不会重复。"
   ]
  },
  {
   "cell_type": "code",
   "execution_count": 1,
   "metadata": {},
   "outputs": [],
   "source": [
    "from sagar.crystal.derive import ConfigurationGenerator\n",
    "from sagar.io.vasp import read_vasp, write_vasp\n",
    "from sagar.crystal.structure import MutableCell, car_to_frac\n",
    "from sagar.crystal.filter import MinDistanceFilter\n",
    "\n",
    "import os\n",
    "import shutil\n",
    "import numpy"
   ]
  },
  {
   "cell_type": "code",
   "execution_count": 2,
   "metadata": {},
   "outputs": [
    {
     "name": "stdout",
     "output_type": "stream",
     "text": [
      "The primitive graphene cell is: \n",
      "Lattice:\n",
      "   a:  2.456000  0.000000  0.000000\n",
      "   b: -1.228000  2.126958  0.000000\n",
      "   c:  0.000000  0.000000 14.000000\n",
      "Sites:\n",
      " 0.000000  0.000000  0.500000 C\n",
      " 0.666667  0.333333  0.500000 C\n"
     ]
    }
   ],
   "source": [
    "cell = read_vasp(\"./graphene.vasp\")\n",
    "print(\"The primitive graphene cell is: \\n\" + str(cell))"
   ]
  },
  {
   "cell_type": "markdown",
   "metadata": {},
   "source": [
    "### Step1 扩胞\n",
    "\n",
    "使用下列矩阵扩为更大的超胞，用于后续的替换"
   ]
  },
  {
   "cell_type": "code",
   "execution_count": 3,
   "metadata": {},
   "outputs": [],
   "source": [
    "mat = numpy.array([2,0,0,\n",
    "                   0,2,0,\n",
    "                   0,0,1]).reshape((3,3))\n",
    "\n",
    "n_carbon = 8\n",
    "supercell = cell.extend(mat)"
   ]
  },
  {
   "cell_type": "markdown",
   "metadata": {},
   "source": [
    "### Step2 \n",
    "在该石墨烯层的上方放置全满的占位标识符Vacc"
   ]
  },
  {
   "cell_type": "code",
   "execution_count": 4,
   "metadata": {},
   "outputs": [
    {
     "name": "stdout",
     "output_type": "stream",
     "text": [
      "Lattice:\n",
      "   a:  4.912000  0.000000  0.000000\n",
      "   b: -2.456000  4.253917  0.000000\n",
      "   c:  0.000000  0.000000 14.000000\n",
      "Sites:\n",
      "[0]: 0.000000  0.000000  0.500000 C\n",
      "[1]: 0.000000  0.500000  0.500000 C\n",
      "[2]: 0.500000  0.000000  0.500000 C\n",
      "[3]: 0.500000  0.500000  0.500000 C\n",
      "[4]: 0.333333  0.166667  0.500000 C\n",
      "[5]: 0.333333  0.666667  0.500000 C\n",
      "[6]: 0.833333  0.166667  0.500000 C\n",
      "[7]: 0.833333  0.666667  0.500000 C\n"
     ]
    }
   ],
   "source": [
    "# 将结构转化为一个可变的类型MutableCell\n",
    "mscell = MutableCell.from_cell(supercell)\n",
    "print(mscell)"
   ]
  },
  {
   "cell_type": "code",
   "execution_count": 5,
   "metadata": {},
   "outputs": [
    {
     "name": "stdout",
     "output_type": "stream",
     "text": [
      "Lattice:\n",
      "   a:  4.912000  0.000000  0.000000\n",
      "   b: -2.456000  4.253917  0.000000\n",
      "   c:  0.000000  0.000000 14.000000\n",
      "Sites:\n",
      "[0]: 0.000000  0.000000  0.500000 C\n",
      "[1]: 0.000000  0.500000  0.500000 C\n",
      "[2]: 0.500000  0.000000  0.500000 C\n",
      "[3]: 0.500000  0.500000  0.500000 C\n",
      "[4]: 0.333333  0.166667  0.500000 C\n",
      "[5]: 0.333333  0.666667  0.500000 C\n",
      "[6]: 0.833333  0.166667  0.500000 C\n",
      "[7]: 0.833333  0.666667  0.500000 C\n",
      "[8]: 0.000000  0.000000  0.642857 Vacc\n",
      "[9]: 0.000000  0.500000  0.642857 Vacc\n",
      "[10]: 0.500000  0.000000  0.642857 Vacc\n",
      "[11]: 0.500000  0.500000  0.642857 Vacc\n",
      "[12]: 0.333333  0.166667  0.642857 Vacc\n",
      "[13]: 0.333333  0.666667  0.642857 Vacc\n",
      "[14]: 0.833333  0.166667  0.642857 Vacc\n",
      "[15]: 0.833333  0.666667  0.642857 Vacc\n"
     ]
    }
   ],
   "source": [
    "# 向z轴正方向平移2A单位，平移矢量为trnas\n",
    "lattice = mscell._lattice\n",
    "trans = numpy.array([0.0, 0.0, 2])\n",
    "\n",
    "for i in range(n_carbon):\n",
    "    s = mscell.get_car_site(i)\n",
    "    car_pos = numpy.array(s[0]) + trans\n",
    "    pos = car_to_frac(lattice, car_pos)\n",
    "    mscell.add_site([tuple(pos), 'Vacc'])\n",
    "\n",
    "print(mscell)\n",
    "up_cell = mscell.to_cell()"
   ]
  },
  {
   "cell_type": "markdown",
   "metadata": {},
   "source": [
    "### Step 3 up侧加入F元素\n",
    "#### Step3-1 以上构型中包含F元素相邻的情况，过滤该种结构\n",
    "\n",
    "在Step2中产生的up侧加入F原子，最大取代数量为总可占据数的一半。保证翻面后没有重复构型。\n",
    "同时限制替换的F原子不相邻，使用MinDistanceFilter过滤器"
   ]
  },
  {
   "cell_type": "code",
   "execution_count": 6,
   "metadata": {},
   "outputs": [],
   "source": [
    "# 使用MinDistanceFilter进行结构筛选\n",
    "# 其中最近C-C键的键长为1.41797A，次近C-C键长为2.456A\n",
    "# 设定标度为1.5,表示当结构中全部F-F原子的距离不小于1.5时该结构可以接受，且次近可接受\n",
    "md_filter = MinDistanceFilter('F', 1.5)"
   ]
  },
  {
   "cell_type": "code",
   "execution_count": 7,
   "metadata": {},
   "outputs": [
    {
     "name": "stdout",
     "output_type": "stream",
     "text": [
      "The number of single side occupy: 5\n"
     ]
    }
   ],
   "source": [
    "symprec = 1e-3\n",
    "up_cg = ConfigurationGenerator(up_cell, symprec=symprec)\n",
    "up_sites = [(6,)]*n_carbon + [(9, 0)]*n_carbon\n",
    "\n",
    "up_confs = []\n",
    "for i in range(1, n_carbon//2+1):\n",
    "    confs = up_cg.cons_specific_cell(sites=up_sites, e_num=(i, n_carbon-i), symprec=symprec)\n",
    "    for c, _ in confs:\n",
    "        if md_filter.is_accepted(c):\n",
    "            up_confs.append(c)\n",
    "        \n",
    "# 取代单面，有这样多个结构\n",
    "print(\"The number of single side occupy: {:}\".format(len(up_confs)))"
   ]
  },
  {
   "cell_type": "code",
   "execution_count": 8,
   "metadata": {},
   "outputs": [],
   "source": [
    "# # 创建保存结构的文件夹，若存在，则删除\n",
    "# path = './graphene-F-doped2x2-onside'\n",
    "# comment = 'F_doped_Graphene-onside'\n",
    "# if not os.path.exists(path):\n",
    "#     os.mkdir(path)\n",
    "# else:\n",
    "#     shutil.rmtree(path)\n",
    "#     os.mkdir(path)"
   ]
  },
  {
   "cell_type": "code",
   "execution_count": 9,
   "metadata": {},
   "outputs": [],
   "source": [
    "# # 写入\n",
    "# idx = 0\n",
    "# for c in up_confs:\n",
    "#     filename = '{:s}_id{:d}'.format(comment, idx)\n",
    "#     idx += 1\n",
    "#     file = os.path.join(path, filename)\n",
    "#     write_vasp(c, file)"
   ]
  },
  {
   "cell_type": "markdown",
   "metadata": {},
   "source": [
    "### Step4：对每一个up单侧的构型，获取down侧的可能取代位点，用空位标记"
   ]
  },
  {
   "cell_type": "code",
   "execution_count": 10,
   "metadata": {},
   "outputs": [],
   "source": [
    "# 所有Vacc位置沿z轴负方向平移4A\n",
    "trans = numpy.array([0.0, 0.0, -4])\n",
    "\n",
    "# 变为MutableCell对象\n",
    "up_confs = [MutableCell.from_cell(c) for c in up_confs]\n",
    "up_confs_vaccdown = []\n",
    "\n",
    "# TODO: 在src中增加对一群原子的变换\n",
    "# 对每一个构型做down位点标识\n",
    "for c in up_confs:\n",
    "    lattice = c._lattice\n",
    "    n = len(c._sites)\n",
    "    \n",
    "    # 对每一个site迭代找出Vacc的位置\n",
    "    for idx in range(n):\n",
    "        s = c.get_car_site(idx)\n",
    "        if s[1] == 'Vacc':\n",
    "            car_pos = numpy.array(s[0]) + trans\n",
    "            pos = car_to_frac(lattice, car_pos)\n",
    "            c.set_site(idx, [tuple(pos), 'Vacc'])\n",
    "        \n",
    "    up_confs_vaccdown.append(c)"
   ]
  },
  {
   "cell_type": "code",
   "execution_count": 11,
   "metadata": {},
   "outputs": [],
   "source": [
    "# 使用不可变的Cell类做替换\n",
    "up_confs_vaccdown = [c.to_cell() for c in up_confs_vaccdown]"
   ]
  },
  {
   "cell_type": "markdown",
   "metadata": {},
   "source": [
    "#### Step4-1：在down组新的标记中，用F原子替换，得到所有可能构型\n",
    "#### Step4-2：占据后使用构型过滤，得到所有down侧F不相邻的构型\n",
    "该步骤同Step3相同，同样用到Step3中定义的MinDistanceFilter过滤器"
   ]
  },
  {
   "cell_type": "code",
   "execution_count": 12,
   "metadata": {},
   "outputs": [],
   "source": [
    "from sagar.crystal.structure import symbol2number as s2n\n",
    "def _get_sites(l_atoms, ele, l_sub):\n",
    "    ele_n = s2n(ele)\n",
    "    l_sub_n = [s2n(sub_n) for sub_n in l_sub]\n",
    "    sites = []\n",
    "    for a in l_atoms:\n",
    "        if a == ele_n:\n",
    "            sites.append(tuple([a] + l_sub_n))\n",
    "        else:\n",
    "            sites.append(tuple([a]))\n",
    "    return sites"
   ]
  },
  {
   "cell_type": "code",
   "execution_count": 13,
   "metadata": {},
   "outputs": [],
   "source": [
    "symprec = 1e-3\n",
    "updown_confs = []\n",
    "element = 'Vacc'\n",
    "substitute = 'F'\n",
    "for vacc_conf in up_confs_vaccdown:\n",
    "    cg = ConfigurationGenerator(vacc_conf, symprec=symprec)\n",
    "    # 获取当前需要取代的无需点的位置信息\n",
    "    sites = _get_sites(vacc_conf.atoms.tolist(), element, substitute)\n",
    "    \n",
    "    confs = cg.cons_specific_cell(sites=sites, e_num=None, symprec=symprec)\n",
    "    for c, _ in confs:\n",
    "        if md_filter.is_accepted(c):\n",
    "            updown_confs.append(c)"
   ]
  },
  {
   "cell_type": "code",
   "execution_count": 14,
   "metadata": {},
   "outputs": [
    {
     "name": "stdout",
     "output_type": "stream",
     "text": [
      "The number of double side occupy: 44\n"
     ]
    }
   ],
   "source": [
    "# 取代双面，有这样多个结构\n",
    "print(\"The number of double side occupy: {:}\".format(len(updown_confs)))"
   ]
  },
  {
   "cell_type": "markdown",
   "metadata": {},
   "source": [
    "### Step Optinal: 将文件写入文件夹，写为vasp读取的格式"
   ]
  },
  {
   "cell_type": "code",
   "execution_count": 15,
   "metadata": {},
   "outputs": [],
   "source": [
    "# 创建保存结构的文件夹，若存在，则删除\n",
    "path = './graphene-F-doped2x2'\n",
    "comment = 'F_doped_Graphene'\n",
    "if not os.path.exists(path):\n",
    "    os.mkdir(path)\n",
    "else:\n",
    "    shutil.rmtree(path)\n",
    "    os.mkdir(path)"
   ]
  },
  {
   "cell_type": "code",
   "execution_count": 16,
   "metadata": {},
   "outputs": [],
   "source": [
    "# 写入\n",
    "idx = 0\n",
    "for c in updown_confs:\n",
    "    filename = '{:s}_id{:d}'.format(comment, idx)\n",
    "    idx += 1\n",
    "    file = os.path.join(path, filename)\n",
    "    write_vasp(c, file)"
   ]
  }
 ],
 "metadata": {
  "kernelspec": {
   "display_name": "Python3.6 (sagar)",
   "language": "python",
   "name": "sagar-py3"
  },
  "language_info": {
   "codemirror_mode": {
    "name": "ipython",
    "version": 3
   },
   "file_extension": ".py",
   "mimetype": "text/x-python",
   "name": "python",
   "nbconvert_exporter": "python",
   "pygments_lexer": "ipython3",
   "version": "3.6.6"
  }
 },
 "nbformat": 4,
 "nbformat_minor": 2
}
