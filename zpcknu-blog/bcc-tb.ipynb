{
 "cells": [
  {
   "cell_type": "code",
   "execution_count": 1,
   "metadata": {},
   "outputs": [],
   "source": [
    "from __future__ import print_function\n",
    "from pythtb import *\n",
    "import numpy as np\n",
    "import matplotlib.pyplot as plt"
   ]
  },
  {
   "cell_type": "code",
   "execution_count": 2,
   "metadata": {},
   "outputs": [],
   "source": [
    "# define lattice vectors\n",
    "lat=[[0.5, 0.5, -0.5],\n",
    "     [-0.5, 0.5, 0.5],\n",
    "     [0.5, -0.5, 0.5]]\n",
    "# define coordinates of orbitals\n",
    "orb=[[0, 0, 0]]\n",
    "\n",
    "# make bcc tight-binding model\n",
    "bcc_model = tb_model(3, 3, lat, orb)"
   ]
  },
  {
   "cell_type": "code",
   "execution_count": 3,
   "metadata": {},
   "outputs": [],
   "source": [
    "# make bcc third nearest TB model\n",
    "bcc_th_model = tb_model(3, 3, lat, orb)"
   ]
  },
  {
   "cell_type": "code",
   "execution_count": 4,
   "metadata": {},
   "outputs": [
    {
     "name": "stdout",
     "output_type": "stream",
     "text": [
      "---------------------------------------\n",
      "report of tight-binding model\n",
      "---------------------------------------\n",
      "k-space dimension           = 3\n",
      "r-space dimension           = 3\n",
      "number of spin components   = 1\n",
      "periodic directions         = [0, 1, 2]\n",
      "number of orbitals          = 1\n",
      "number of electronic states = 1\n",
      "lattice vectors:\n",
      " #  0  ===>  [     0.5 ,     0.5 ,    -0.5 ]\n",
      " #  1  ===>  [    -0.5 ,     0.5 ,     0.5 ]\n",
      " #  2  ===>  [     0.5 ,    -0.5 ,     0.5 ]\n",
      "positions of orbitals:\n",
      " #  0  ===>  [     0.0 ,     0.0 ,     0.0 ]\n",
      "site energies:\n",
      " #  0  ===>       0.0\n",
      "hoppings:\n",
      "<  0 | H |  0 + [  0 ,  0 ,  1 ] >     ===>     -1.0 +     0.0 i\n",
      "<  0 | H |  0 + [  0 ,  1 ,  0 ] >     ===>     -1.0 +     0.0 i\n",
      "<  0 | H |  0 + [  1 ,  0 ,  0 ] >     ===>     -1.0 +     0.0 i\n",
      "hopping distances:\n",
      "|  pos(  0 )  - pos(  0 + [  0 ,  0 ,  1 ] ) |  =     0.866\n",
      "|  pos(  0 )  - pos(  0 + [  0 ,  1 ,  0 ] ) |  =     0.866\n",
      "|  pos(  0 )  - pos(  0 + [  1 ,  0 ,  0 ] ) |  =     0.866\n",
      "\n"
     ]
    }
   ],
   "source": [
    "# set model parameters\n",
    "delta=0.0\n",
    "t=-1.0\n",
    "\n",
    "# set on-site energies\n",
    "bcc_model.set_onsite([delta])\n",
    "# set hoppings (one for each connected pair of orbitals)\n",
    "bcc_model.set_hop(t,0,0,[0,0,1])\n",
    "bcc_model.set_hop(t,0,0,[0,1,0])\n",
    "bcc_model.set_hop(t,0,0,[1,0,0])\n",
    "\n",
    "# print tight-binding model\n",
    "bcc_model.display()"
   ]
  },
  {
   "cell_type": "code",
   "execution_count": 5,
   "metadata": {},
   "outputs": [],
   "source": [
    "# set model parameters\n",
    "delta=0.0\n",
    "t0=-1.0\n",
    "t1=-0.1\n",
    "\n",
    "# set on-site energies\n",
    "bcc_th_model.set_onsite([delta])\n",
    "# set hoppings (one for each connected pair of orbitals)\n",
    "bcc_th_model.set_hop(t0,0,0,[0,0,1])\n",
    "bcc_th_model.set_hop(t0,0,0,[0,1,0])\n",
    "bcc_th_model.set_hop(t0,0,0,[1,0,0])\n",
    "\n",
    "bcc_th_model.set_hop(t1,0,0,[0,1,1])\n",
    "bcc_th_model.set_hop(t1,0,0,[1,0,1])\n",
    "bcc_th_model.set_hop(t1,0,0,[1,1,0])"
   ]
  },
  {
   "cell_type": "code",
   "execution_count": 6,
   "metadata": {},
   "outputs": [
    {
     "name": "stdout",
     "output_type": "stream",
     "text": [
      "----- k_path report begin ----------\n",
      "real-space lattice vectors\n",
      " [[ 0.5  0.5 -0.5]\n",
      " [-0.5  0.5  0.5]\n",
      " [ 0.5 -0.5  0.5]]\n",
      "k-space metric tensor\n",
      " [[2. 1. 1.]\n",
      " [1. 2. 1.]\n",
      " [1. 1. 2.]]\n",
      "internal coordinates of nodes\n",
      " [[ 0.25  0.25  0.25]\n",
      " [ 0.    0.    0.  ]\n",
      " [ 0.    0.5   0.  ]\n",
      " [-0.5   0.5   0.5 ]\n",
      " [ 0.    0.    0.  ]]\n",
      "reciprocal-space lattice vectors\n",
      " [[1. 1. 0.]\n",
      " [0. 1. 1.]\n",
      " [1. 0. 1.]]\n",
      "cartesian coordinates of nodes\n",
      " [[0.5 0.5 0.5]\n",
      " [0.  0.  0. ]\n",
      " [0.  0.5 0.5]\n",
      " [0.  0.  1. ]\n",
      " [0.  0.  0. ]]\n",
      "list of segments:\n",
      "  length = 0.86603  from  [0.25 0.25 0.25]  to  [0. 0. 0.]\n",
      "  length = 0.70711  from  [0. 0. 0.]  to  [0.  0.5 0. ]\n",
      "  length = 0.70711  from  [0.  0.5 0. ]  to  [-0.5  0.5  0.5]\n",
      "  length =     1.0  from  [-0.5  0.5  0.5]  to  [0. 0. 0.]\n",
      "node distance list: [0.      0.86603 1.57313 2.28024 3.28024]\n",
      "node index list:    [  0  79 143 208 299]\n",
      "----- k_path report end ------------\n",
      "\n"
     ]
    }
   ],
   "source": [
    "# generate list of k-points following a segmented path in the BZ\n",
    "# list of nodes (high-symmetry points) that will be connected\n",
    "path=[[0.25,0.25,0.25],[0,0,0],[.0,.5,.0],[-0.5,0.5,0.5],[0,0,0]]\n",
    "# labels of the nodes\n",
    "label=(r'$P$',r'$\\Gamma$', r'$N$', r'$H$', r'$\\Gamma$')\n",
    "# total number of interpolated k-points along the path\n",
    "nk=300\n",
    "\n",
    "# call function k_path to construct the actual path\n",
    "(k_vec,k_dist,k_node)=bcc_model.k_path(path,nk)"
   ]
  },
  {
   "cell_type": "code",
   "execution_count": 7,
   "metadata": {},
   "outputs": [
    {
     "name": "stdout",
     "output_type": "stream",
     "text": [
      "----- k_path report begin ----------\n",
      "real-space lattice vectors\n",
      " [[ 0.5  0.5 -0.5]\n",
      " [-0.5  0.5  0.5]\n",
      " [ 0.5 -0.5  0.5]]\n",
      "k-space metric tensor\n",
      " [[2. 1. 1.]\n",
      " [1. 2. 1.]\n",
      " [1. 1. 2.]]\n",
      "internal coordinates of nodes\n",
      " [[ 0.25  0.25  0.25]\n",
      " [ 0.    0.    0.  ]\n",
      " [ 0.    0.5   0.  ]\n",
      " [-0.5   0.5   0.5 ]\n",
      " [ 0.    0.    0.  ]]\n",
      "reciprocal-space lattice vectors\n",
      " [[1. 1. 0.]\n",
      " [0. 1. 1.]\n",
      " [1. 0. 1.]]\n",
      "cartesian coordinates of nodes\n",
      " [[0.5 0.5 0.5]\n",
      " [0.  0.  0. ]\n",
      " [0.  0.5 0.5]\n",
      " [0.  0.  1. ]\n",
      " [0.  0.  0. ]]\n",
      "list of segments:\n",
      "  length = 0.86603  from  [0.25 0.25 0.25]  to  [0. 0. 0.]\n",
      "  length = 0.70711  from  [0. 0. 0.]  to  [0.  0.5 0. ]\n",
      "  length = 0.70711  from  [0.  0.5 0. ]  to  [-0.5  0.5  0.5]\n",
      "  length =     1.0  from  [-0.5  0.5  0.5]  to  [0. 0. 0.]\n",
      "node distance list: [0.      0.86603 1.57313 2.28024 3.28024]\n",
      "node index list:    [  0  79 143 208 299]\n",
      "----- k_path report end ------------\n",
      "\n"
     ]
    }
   ],
   "source": [
    "# generate list of k-points following a segmented path in the BZ\n",
    "# list of nodes (high-symmetry points) that will be connected\n",
    "path=[[0.25,0.25,0.25],[0,0,0],[.0,.5,.0],[-0.5,0.5,0.5],[0,0,0]]\n",
    "# labels of the nodes\n",
    "label=(r'$P$',r'$\\Gamma$', r'$N$', r'$H$', r'$\\Gamma$')\n",
    "# total number of interpolated k-points along the path\n",
    "nk=300\n",
    "\n",
    "# call function k_path to construct the actual path\n",
    "(k_vec,k_dist,k_node)=bcc_th_model.k_path(path,nk)"
   ]
  },
  {
   "cell_type": "code",
   "execution_count": 8,
   "metadata": {},
   "outputs": [
    {
     "name": "stdout",
     "output_type": "stream",
     "text": [
      "---------------------------------------\n",
      "starting calculation\n"
     ]
    }
   ],
   "source": [
    "print('---------------------------------------')\n",
    "print('starting calculation')\n",
    "\n",
    "# obtain eigenvalues to be plotted\n",
    "evals=bcc_model.solve_all(k_vec)"
   ]
  },
  {
   "cell_type": "code",
   "execution_count": 9,
   "metadata": {},
   "outputs": [
    {
     "name": "stdout",
     "output_type": "stream",
     "text": [
      "---------------------------------------\n",
      "starting calculation\n"
     ]
    }
   ],
   "source": [
    "print('---------------------------------------')\n",
    "print('starting calculation')\n",
    "\n",
    "# obtain eigenvalues to be plotted\n",
    "evals_th=bcc_th_model.solve_all(k_vec)"
   ]
  },
  {
   "cell_type": "code",
   "execution_count": 10,
   "metadata": {},
   "outputs": [
    {
     "name": "stdout",
     "output_type": "stream",
     "text": [
      "Done.\n",
      "\n"
     ]
    },
    {
     "data": {
      "image/png": "[encoded data removed]",
      "text/plain": [
       "<Figure size 432x288 with 1 Axes>"
      ]
     },
     "metadata": {
      "needs_background": "light"
     },
     "output_type": "display_data"
    }
   ],
   "source": [
    "# figure for bandstructure\n",
    "\n",
    "fig, ax = plt.subplots()\n",
    "# specify horizontal axis details\n",
    "# set range of horizontal axis\n",
    "ax.set_xlim(k_node[0],k_node[-1])\n",
    "# put tickmarks and labels at node positions\n",
    "ax.set_xticks(k_node)\n",
    "ax.set_xticklabels(label)\n",
    "# add vertical lines at node positions\n",
    "for n in range(len(k_node)):\n",
    "  ax.axvline(x=k_node[n],linewidth=0.5, color='k')\n",
    "# put title\n",
    "ax.set_title(\"BCC Li band structure of nearest and third nearest hopping\")\n",
    "ax.set_xlabel(\"Path in k-space\")\n",
    "ax.set_ylabel(\"Band energy\")\n",
    "\n",
    "# plot nearest hopping band\n",
    "ax.plot(k_dist,evals[0], label='nearst hoppint')\n",
    "\n",
    "# plot third nearest band\n",
    "ax.plot(k_dist,evals_th[0], label='third nearst hopping')\n",
    "\n",
    "# plot legend\n",
    "ax.legend()\n",
    "\n",
    "# make an PDF figure of a plot\n",
    "fig.tight_layout()\n",
    "# plt.show()\n",
    "fig.savefig(\"bcc-tb.png\")\n",
    "\n",
    "print('Done.\\n')"
   ]
  }
 ],
 "metadata": {
  "kernelspec": {
   "display_name": "Python 3",
   "language": "python",
   "name": "python3"
  },
  "language_info": {
   "codemirror_mode": {
    "name": "ipython",
    "version": 3
   },
   "file_extension": ".py",
   "mimetype": "text/x-python",
   "name": "python",
   "nbconvert_exporter": "python",
   "pygments_lexer": "ipython3",
   "version": "3.6.6"
  }
 },
 "nbformat": 4,
 "nbformat_minor": 2
}
